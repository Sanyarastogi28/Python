{
 "cells": [
  {
   "cell_type": "markdown",
   "id": "93587130",
   "metadata": {},
   "source": [
    "# LOOPS"
   ]
  },
  {
   "cell_type": "code",
   "execution_count": 4,
   "id": "ae6a1a17",
   "metadata": {},
   "outputs": [
    {
     "name": "stdout",
     "output_type": "stream",
     "text": [
      "max iterations: 9\n",
      "1\n",
      "3\n",
      "5\n",
      "7\n",
      "done\n"
     ]
    }
   ],
   "source": [
    "n=int(input(\"max iterations: \"))\n",
    "i=1\n",
    "while i < n:\n",
    "    print(i)\n",
    "    i+=2\n",
    "print(\"done\")"
   ]
  },
  {
   "cell_type": "code",
   "execution_count": 5,
   "id": "df9fe505",
   "metadata": {},
   "outputs": [
    {
     "name": "stdout",
     "output_type": "stream",
     "text": [
      "enter the number: 10\n",
      "1\n",
      "4\n",
      "9\n",
      "16\n",
      "25\n",
      "36\n",
      "49\n",
      "64\n",
      "81\n"
     ]
    }
   ],
   "source": [
    "#print the squares of numbers from 1 to 9.\n",
    "n=int(input(\"enter the number: \"))\n",
    "i=1\n",
    "while i<n:\n",
    "    print(i**2)\n",
    "    i+=1"
   ]
  },
  {
   "cell_type": "code",
   "execution_count": 8,
   "id": "4a5a92f5",
   "metadata": {},
   "outputs": [
    {
     "name": "stdout",
     "output_type": "stream",
     "text": [
      "enter the number: 6\n",
      "1\n",
      "4\n",
      "9\n",
      "16\n",
      "25\n"
     ]
    }
   ],
   "source": [
    "# while loop\n",
    "#print the squares of numbers from 1 to 5.\n",
    "\n",
    "n=int(input(\"enter the number: \"))\n",
    "i=1\n",
    "while i<n:\n",
    "    print(i**2)\n",
    "    i+=1"
   ]
  },
  {
   "cell_type": "code",
   "execution_count": 19,
   "id": "7128d33b",
   "metadata": {},
   "outputs": [
    {
     "name": "stdout",
     "output_type": "stream",
     "text": [
      "enter the number: 20\n",
      "0\n",
      "2\n",
      "4\n",
      "6\n",
      "8\n",
      "10\n",
      "12\n",
      "14\n",
      "16\n",
      "18\n",
      "20\n"
     ]
    }
   ],
   "source": [
    "#if-else condition inside loop\n",
    "#print a even number till 20.\n",
    "\n",
    "n=int(input(\"enter the number: \"))\n",
    "i=0\n",
    "while i<=n:\n",
    "    if i%2==0:\n",
    "        print(i)\n",
    "    #else:\n",
    "       # pass\n",
    "    i+=1  "
   ]
  },
  {
   "cell_type": "code",
   "execution_count": 25,
   "id": "049b6100",
   "metadata": {},
   "outputs": [
    {
     "name": "stdout",
     "output_type": "stream",
     "text": [
      "0\n",
      "1\n",
      "2\n",
      "3\n",
      "4\n",
      "5\n",
      "6\n",
      "7\n",
      "8\n",
      "done\n"
     ]
    }
   ],
   "source": [
    "# break statement\n",
    "\n",
    "count=0\n",
    "while count<=20:\n",
    "    print(count)\n",
    "    count+=1\n",
    "    if count==9:\n",
    "        break\n",
    "print(\"done\")"
   ]
  },
  {
   "cell_type": "code",
   "execution_count": 28,
   "id": "0fea0fd6",
   "metadata": {},
   "outputs": [
    {
     "name": "stdout",
     "output_type": "stream",
     "text": [
      "break\n",
      "done\n"
     ]
    }
   ],
   "source": [
    "i=0\n",
    "while True:\n",
    "    if i%17==0:\n",
    "        print(\"break\")\n",
    "        break\n",
    "    else:\n",
    "        i+=1\n",
    "        continue\n",
    "    print(\"inside loop\")\n",
    "print(\"done\")\n",
    "    "
   ]
  },
  {
   "cell_type": "code",
   "execution_count": 53,
   "id": "bd9b00a6",
   "metadata": {},
   "outputs": [
    {
     "name": "stdout",
     "output_type": "stream",
     "text": [
      "inside else\n",
      "inside else\n",
      "inside else\n",
      "inside else\n",
      "inside else\n",
      "inside else\n",
      "inside else\n",
      "inside else\n",
      "inside if loop\n",
      "done\n"
     ]
    }
   ],
   "source": [
    "#control flow statements: break statement\n",
    "\n",
    "n=20\n",
    "i=1 \n",
    "while True:\n",
    "    if i%9==0:\n",
    "        print(\"inside if loop\")\n",
    "        break\n",
    "       \n",
    "    else:\n",
    "        i+=1\n",
    "        print(\"inside else\")\n",
    "print(\"done\")"
   ]
  },
  {
   "cell_type": "code",
   "execution_count": 65,
   "id": "68f3323a",
   "metadata": {},
   "outputs": [
    {
     "name": "stdout",
     "output_type": "stream",
     "text": [
      "inside if\n",
      "inside if\n",
      "something\n",
      "done\n"
     ]
    }
   ],
   "source": [
    "#control flow statements: continue statement\n",
    "\n",
    "n=20\n",
    "i=1 \n",
    "while True:\n",
    "    if i%3!=0:\n",
    "        i+=1\n",
    "        print(\"inside if\")\n",
    "        continue\n",
    "        print(\"something doytdk\")\n",
    "    print(\"something\")\n",
    "    break   \n",
    "    \n",
    "print(\"done\")"
   ]
  },
  {
   "cell_type": "code",
   "execution_count": 2,
   "id": "c52ff20b",
   "metadata": {},
   "outputs": [
    {
     "name": "stdout",
     "output_type": "stream",
     "text": [
      "4.7\n",
      "[1, 2, 4.7, 8, 3]\n"
     ]
    }
   ],
   "source": [
    "a=[1,2,4.7,8]\n",
    "\n",
    "print(a[2])\n",
    "a.append(3)\n",
    "print(a)"
   ]
  },
  {
   "cell_type": "markdown",
   "id": "f65b3d5f",
   "metadata": {},
   "source": [
    "# FOR LOOP\n"
   ]
  },
  {
   "cell_type": "code",
   "execution_count": 7,
   "id": "7210e2fb",
   "metadata": {},
   "outputs": [
    {
     "name": "stdout",
     "output_type": "stream",
     "text": [
      "0\n",
      "1\n",
      "2\n",
      "3\n",
      "4\n",
      "5\n",
      "6\n",
      "7\n",
      "8\n",
      "9\n",
      "[0, 1, 4, 9, 16, 25, 36, 49, 64, 81]\n"
     ]
    }
   ],
   "source": [
    "L=[]\n",
    "for i in range(10):\n",
    "    print(i)\n",
    "    L.append(i**2)\n",
    "print(L)"
   ]
  },
  {
   "cell_type": "code",
   "execution_count": 10,
   "id": "dd7122ea",
   "metadata": {},
   "outputs": [
    {
     "name": "stdout",
     "output_type": "stream",
     "text": [
      "1\n",
      "4\n",
      "7\n",
      "[1, 16, 49]\n"
     ]
    }
   ],
   "source": [
    "L=[]\n",
    "for i in range(1,10,3):\n",
    "    print(i)\n",
    "    L.append(i**2)\n",
    "print(L)"
   ]
  },
  {
   "cell_type": "code",
   "execution_count": 14,
   "id": "941f70ef",
   "metadata": {},
   "outputs": [
    {
     "name": "stdout",
     "output_type": "stream",
     "text": [
      "cherry\n",
      "4.9\n",
      "apple\n",
      "iteration completes\n"
     ]
    }
   ],
   "source": [
    "#else in for loop\n",
    "\n",
    "s={\"apple\", 4.9, \"cherry\"}\n",
    "for x in s:\n",
    "    print(x)\n",
    "else:\n",
    "    print(\"iteration completes\")"
   ]
  },
  {
   "cell_type": "code",
   "execution_count": null,
   "id": "199aab29",
   "metadata": {},
   "outputs": [],
   "source": []
  }
 ],
 "metadata": {
  "kernelspec": {
   "display_name": "Python 3 (ipykernel)",
   "language": "python",
   "name": "python3"
  },
  "language_info": {
   "codemirror_mode": {
    "name": "ipython",
    "version": 3
   },
   "file_extension": ".py",
   "mimetype": "text/x-python",
   "name": "python",
   "nbconvert_exporter": "python",
   "pygments_lexer": "ipython3",
   "version": "3.9.12"
  }
 },
 "nbformat": 4,
 "nbformat_minor": 5
}
