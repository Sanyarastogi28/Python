{
 "cells": [
  {
   "cell_type": "markdown",
   "id": "6f4709df",
   "metadata": {},
   "source": [
    "# Functions\n"
   ]
  },
  {
   "cell_type": "code",
   "execution_count": 6,
   "id": "ecabd620",
   "metadata": {},
   "outputs": [],
   "source": [
    "#creating a function\n",
    "\n",
    "def my_function():\n",
    "    print(\"hello world\")"
   ]
  },
  {
   "cell_type": "code",
   "execution_count": 10,
   "id": "16c68548",
   "metadata": {},
   "outputs": [
    {
     "name": "stdout",
     "output_type": "stream",
     "text": [
      "hello world\n"
     ]
    }
   ],
   "source": [
    "#calling a function\n",
    "\n",
    "def my_function():\n",
    "    print(\"hello world\")\n",
    "my_function()"
   ]
  },
  {
   "cell_type": "code",
   "execution_count": 1,
   "id": "f284e4ac",
   "metadata": {},
   "outputs": [],
   "source": [
    "def printSuccess():\n",
    "    print(\"task done\")\n",
    "    print(\"assign another task\")"
   ]
  },
  {
   "cell_type": "code",
   "execution_count": 2,
   "id": "aa57a91a",
   "metadata": {},
   "outputs": [
    {
     "name": "stdout",
     "output_type": "stream",
     "text": [
      "task done\n",
      "assign another task\n"
     ]
    }
   ],
   "source": [
    "printSuccess()"
   ]
  },
  {
   "cell_type": "code",
   "execution_count": 13,
   "id": "f14bb0db",
   "metadata": {},
   "outputs": [
    {
     "name": "stdout",
     "output_type": "stream",
     "text": [
      "Using __doc__:\n",
      "Demonstrates triple double quotes\n",
      "   docstrings and does nothing really.\n",
      "Using help:\n",
      "Help on function my_function in module __main__:\n",
      "\n",
      "my_function()\n",
      "    Demonstrates triple double quotes\n",
      "    docstrings and does nothing really.\n",
      "\n"
     ]
    }
   ],
   "source": [
    " # function (docString)\n",
    "    \n",
    "def my_function():\n",
    "    '''Demonstrates triple double quotes\n",
    "    docstrings and does nothing really.'''\n",
    "   \n",
    "    #return None\n",
    "  \n",
    "print(\"Using __doc__:\")\n",
    "print(my_function.__doc__)\n",
    "  \n",
    "print(\"Using help:\")\n",
    "help(my_function)"
   ]
  },
  {
   "cell_type": "code",
   "execution_count": 7,
   "id": "b0edcf1d",
   "metadata": {},
   "outputs": [
    {
     "name": "stdout",
     "output_type": "stream",
     "text": [
      "kjdfks\n"
     ]
    }
   ],
   "source": [
    "def printSuccess2():\n",
    "    \"\"\"this  function is doing nothing except printing the message\n",
    "    hello\"\"\"\n",
    "    print(\"hello\")\n",
    "print(\"kjdfks\")"
   ]
  },
  {
   "cell_type": "code",
   "execution_count": 8,
   "id": "2a9b595d",
   "metadata": {},
   "outputs": [
    {
     "name": "stdout",
     "output_type": "stream",
     "text": [
      "hello\n"
     ]
    }
   ],
   "source": [
    "printSuccess2()"
   ]
  },
  {
   "cell_type": "code",
   "execution_count": 14,
   "id": "f65d21e2",
   "metadata": {},
   "outputs": [],
   "source": [
    "printSuccess2?\n",
    "printSuccess??"
   ]
  },
  {
   "cell_type": "code",
   "execution_count": 17,
   "id": "e32d4475",
   "metadata": {},
   "outputs": [
    {
     "name": "stdout",
     "output_type": "stream",
     "text": [
      "success\n",
      "success1\n"
     ]
    }
   ],
   "source": [
    "# function (input arguments)\n",
    "\n",
    "def printMessage(abc):\n",
    "    \"\"\"this will print the messages displayed in printMessage function\"\"\"\n",
    "    print(abc)\n",
    "printMessage(\"success\")\n",
    "printMessage(\"success1\")"
   ]
  },
  {
   "cell_type": "code",
   "execution_count": 23,
   "id": "05197b6b",
   "metadata": {},
   "outputs": [
    {
     "name": "stdout",
     "output_type": "stream",
     "text": [
      "this is string\n",
      "Sanya\n",
      "msg is not in string\n"
     ]
    }
   ],
   "source": [
    "def printMsg(msg):\n",
    "    '''this function demonstrates that the message supplied by the user is in string or not '''\n",
    "    if isinstance(msg,str):\n",
    "        print(\"this is string\")\n",
    "        print(msg)\n",
    "    else:\n",
    "        print(\"msg is not in string\")\n",
    "printMsg(\"Sanya\")\n",
    "printMsg(28)"
   ]
  },
  {
   "cell_type": "code",
   "execution_count": 26,
   "id": "571895a2",
   "metadata": {},
   "outputs": [
    {
     "name": "stdout",
     "output_type": "stream",
     "text": [
      "16384\n"
     ]
    }
   ],
   "source": [
    "# multiple input arguments\n",
    "\n",
    "def myPow(a,b):\n",
    "    \"\"\"this function computes power just like the inbuilt power function\"\"\"\n",
    "    c=a**b\n",
    "    \n",
    "    print(c)\n",
    "myPow(4,7)"
   ]
  },
  {
   "cell_type": "code",
   "execution_count": 28,
   "id": "abe1ae1e",
   "metadata": {},
   "outputs": [
    {
     "name": "stdout",
     "output_type": "stream",
     "text": [
      "5 6 7\n"
     ]
    }
   ],
   "source": [
    "def func(b,a,c):\n",
    "    print(b,a,c)\n",
    "func(5,6,7)"
   ]
  },
  {
   "cell_type": "code",
   "execution_count": 31,
   "id": "4b431801",
   "metadata": {},
   "outputs": [
    {
     "name": "stdout",
     "output_type": "stream",
     "text": [
      "a is: 2\n",
      "b is: 3\n",
      "c is: sanya\n",
      "a is: 3\n",
      "b is: sanya\n",
      "c is: 2\n"
     ]
    }
   ],
   "source": [
    " #function (order of the arguments)\n",
    "    \n",
    "def f(a,b,c):\n",
    "    print(\"a is:\", a)\n",
    "    print(\"b is:\", b)\n",
    "    print(\"c is:\", c)\n",
    "f(2,3,\"sanya\")\n",
    "f(3,\"sanya\",2)\n"
   ]
  },
  {
   "cell_type": "code",
   "execution_count": 35,
   "id": "86cee981",
   "metadata": {},
   "outputs": [
    {
     "name": "stdout",
     "output_type": "stream",
     "text": [
      "a is: 2\n",
      "b is: 3\n",
      "c is: sanya\n",
      "a is: 2\n",
      "b is: 3\n",
      "c is: sanya\n",
      "a is: 3\n",
      "b is: sanya\n",
      "c is: 2\n"
     ]
    }
   ],
   "source": [
    "f(a=2,b=3,c=\"sanya\")\n",
    "\n",
    "f(c=\"sanya\",a=2,b=3)\n",
    "f(3,\"sanya\",2)"
   ]
  },
  {
   "cell_type": "code",
   "execution_count": 50,
   "id": "e54d78a2",
   "metadata": {},
   "outputs": [
    {
     "name": "stdout",
     "output_type": "stream",
     "text": [
      "sum is  37\n"
     ]
    }
   ],
   "source": [
    "#function(variable inside)\n",
    "#c=x+y #global variable c\n",
    "def add(x,y):\n",
    "    c=x+y  # c is a local variable\n",
    "    print(c)\n",
    "    return c,x,y\n",
    "#return x\n",
    "#return y\n",
    "print(\"sum is \", c)"
   ]
  },
  {
   "cell_type": "code",
   "execution_count": 40,
   "id": "6bb2655e",
   "metadata": {},
   "outputs": [
    {
     "name": "stdout",
     "output_type": "stream",
     "text": [
      "4\n"
     ]
    }
   ],
   "source": [
    "a=4\n",
    "\n",
    "def f():\n",
    "    print(a)\n",
    "f()"
   ]
  },
  {
   "cell_type": "code",
   "execution_count": 73,
   "id": "af3d5841",
   "metadata": {},
   "outputs": [
    {
     "name": "stdout",
     "output_type": "stream",
     "text": [
      "8\n",
      "worng\n",
      "sum is  10\n"
     ]
    }
   ],
   "source": [
    "# function(return statement)\n",
    "\n",
    "def add(x,y):\n",
    "#x=int(input())\n",
    "#y=int(input())\n",
    "    d=x+y\n",
    "    #return d\n",
    "# d is a local variable\n",
    "    print(d)\n",
    "    \n",
    "    #return x\n",
    "    #return y\n",
    "add(5,3)\n",
    "if d==8:\n",
    "    print(\"ok\")\n",
    "else:\n",
    "    print(\"worng\")\n",
    "print(\"sum is \",d)\n",
    "\n"
   ]
  },
  {
   "cell_type": "code",
   "execution_count": 76,
   "id": "48203787",
   "metadata": {},
   "outputs": [
    {
     "name": "stdout",
     "output_type": "stream",
     "text": [
      "13\n"
     ]
    }
   ],
   "source": [
    "def addd(a,b):\n",
    "    f=a+b\n",
    "    print(f)\n",
    "addd(5,8)"
   ]
  },
  {
   "cell_type": "code",
   "execution_count": 79,
   "id": "fce3a289",
   "metadata": {},
   "outputs": [
    {
     "name": "stdout",
     "output_type": "stream",
     "text": [
      "enter the first number20\n",
      "enter the second number40\n",
      "60 -20\n"
     ]
    }
   ],
   "source": [
    "def operations(a,b):\n",
    "    c=a+b\n",
    "    d=a-b\n",
    "    print(c,d)\n",
    "x=int(input(\"enter the first number\"))\n",
    "y=int(input(\"enter the second number\"))\n",
    "operations(x,y)"
   ]
  },
  {
   "cell_type": "code",
   "execution_count": 81,
   "id": "6a6f92b3",
   "metadata": {},
   "outputs": [
    {
     "name": "stdout",
     "output_type": "stream",
     "text": [
      "2.0\n",
      "None\n",
      "0\n",
      "None\n"
     ]
    }
   ],
   "source": [
    "def divNum(a, b):\n",
    "    if b != 0:\n",
    "        #return a/b\n",
    "        print(a/b)\n",
    "    else:\n",
    "        #return 0\n",
    "        print(\"0\")\n",
    "\n",
    "print (divNum(4, 2))\n",
    "print (divNum(2, 0)) \n",
    "    "
   ]
  },
  {
   "cell_type": "code",
   "execution_count": 82,
   "id": "af936422",
   "metadata": {},
   "outputs": [
    {
     "name": "stdout",
     "output_type": "stream",
     "text": [
      "2.0\n",
      "None\n",
      "0\n",
      "None\n"
     ]
    }
   ],
   "source": [
    "def divNum(a, b):\n",
    "    if b != 0:\n",
    "        #return a/b\n",
    "        print(a/b)\n",
    "    else:\n",
    "        #return 0\n",
    "        print(\"0\")\n",
    "\n",
    "print (divNum(4, 2))\n",
    "print (divNum(2, 0)) \n",
    "    "
   ]
  },
  {
   "cell_type": "code",
   "execution_count": 109,
   "id": "76162802",
   "metadata": {},
   "outputs": [
    {
     "name": "stdout",
     "output_type": "stream",
     "text": [
      "9\n",
      "4\n",
      "7\n"
     ]
    }
   ],
   "source": [
    "def myadd(a,b):\n",
    "    h=4\n",
    "    j=9\n",
    "    sumValue=a+b\n",
    "    print(j)\n",
    "    return sumValue\n",
    "    print(h)     #this will not print\n",
    "d=myadd(2,5)\n",
    "print(d)"
   ]
  },
  {
   "cell_type": "code",
   "execution_count": 105,
   "id": "31bfdbb4",
   "metadata": {},
   "outputs": [
    {
     "name": "stdout",
     "output_type": "stream",
     "text": [
      "None\n"
     ]
    }
   ],
   "source": [
    "#function with no argument\n",
    "def g():\n",
    "    abc=0\n",
    "g()\n",
    "print(g())  "
   ]
  },
  {
   "cell_type": "code",
   "execution_count": 110,
   "id": "2d1a0b85",
   "metadata": {},
   "outputs": [
    {
     "name": "stdout",
     "output_type": "stream",
     "text": [
      "2 3 sanya\n"
     ]
    }
   ],
   "source": [
    "#return statement can return multiple values of any type\n",
    "def r():\n",
    "    a=2\n",
    "    b=3\n",
    "    c=\"sanya\"\n",
    "    return a,b,c\n",
    "x,y,z=r()\n",
    "print(x,y,z)"
   ]
  },
  {
   "cell_type": "code",
   "execution_count": 111,
   "id": "8f359dcf",
   "metadata": {},
   "outputs": [
    {
     "data": {
      "text/plain": [
       "27"
      ]
     },
     "execution_count": 111,
     "metadata": {},
     "output_type": "execute_result"
    }
   ],
   "source": [
    "#function(variable number of input arguments)\n",
    "def add(*args):\n",
    "    sum=0\n",
    "    for i in range(len(args)):\n",
    "        sum=sum+args[i]\n",
    "    return sum\n",
    "add(2,3,4,5,6,7)\n"
   ]
  },
  {
   "cell_type": "code",
   "execution_count": 113,
   "id": "8b01822a",
   "metadata": {},
   "outputs": [
    {
     "name": "stdout",
     "output_type": "stream",
     "text": [
      "7\n"
     ]
    }
   ],
   "source": [
    " #functions(default values)\n",
    "def a(sum=0):\n",
    "    print(sum)\n",
    "a(7)"
   ]
  },
  {
   "cell_type": "code",
   "execution_count": null,
   "id": "7d7082f6",
   "metadata": {},
   "outputs": [],
   "source": []
  }
 ],
 "metadata": {
  "kernelspec": {
   "display_name": "Python 3 (ipykernel)",
   "language": "python",
   "name": "python3"
  },
  "language_info": {
   "codemirror_mode": {
    "name": "ipython",
    "version": 3
   },
   "file_extension": ".py",
   "mimetype": "text/x-python",
   "name": "python",
   "nbconvert_exporter": "python",
   "pygments_lexer": "ipython3",
   "version": "3.9.12"
  }
 },
 "nbformat": 4,
 "nbformat_minor": 5
}
